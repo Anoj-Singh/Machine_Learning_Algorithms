{
 "cells": [
  {
   "cell_type": "code",
   "execution_count": 1,
   "metadata": {},
   "outputs": [],
   "source": [
    "# importing libraries\n",
    "\n",
    "import pandas as pd\n",
    "import numpy as np\n",
    "import matplotlib.pyplot as plt"
   ]
  },
  {
   "cell_type": "code",
   "execution_count": 2,
   "metadata": {},
   "outputs": [],
   "source": [
    "# importing dataset\n",
    "\n",
    "df=pd.read_csv(\"D:/csv files/Wine.csv\")\n",
    "x=df.iloc[:,:-1].values\n",
    "y=df.iloc[:,-1].values"
   ]
  },
  {
   "cell_type": "code",
   "execution_count": 3,
   "metadata": {},
   "outputs": [],
   "source": [
    "# distributing dataset into training and test set\n",
    "\n",
    "from sklearn.model_selection import train_test_split\n",
    "x_train, x_test, y_train, y_test=train_test_split(x,y,test_size=0.2,random_state=0)"
   ]
  },
  {
   "cell_type": "code",
   "execution_count": 4,
   "metadata": {},
   "outputs": [
    {
     "data": {
      "text/plain": [
       "array([[1.369e+01, 3.260e+00, 2.540e+00, ..., 9.600e-01, 1.820e+00,\n",
       "        6.800e+02],\n",
       "       [1.269e+01, 1.530e+00, 2.260e+00, ..., 9.600e-01, 2.060e+00,\n",
       "        4.950e+02],\n",
       "       [1.162e+01, 1.990e+00, 2.280e+00, ..., 1.160e+00, 2.960e+00,\n",
       "        3.450e+02],\n",
       "       ...,\n",
       "       [1.242e+01, 1.610e+00, 2.190e+00, ..., 1.060e+00, 2.960e+00,\n",
       "        3.450e+02],\n",
       "       [1.390e+01, 1.680e+00, 2.120e+00, ..., 9.100e-01, 3.330e+00,\n",
       "        9.850e+02],\n",
       "       [1.416e+01, 2.510e+00, 2.480e+00, ..., 6.200e-01, 1.710e+00,\n",
       "        6.600e+02]])"
      ]
     },
     "execution_count": 4,
     "metadata": {},
     "output_type": "execute_result"
    }
   ],
   "source": [
    "x_train"
   ]
  },
  {
   "cell_type": "code",
   "execution_count": 5,
   "metadata": {},
   "outputs": [],
   "source": [
    "# Feature scaling\n",
    "\n",
    "from sklearn.preprocessing import StandardScaler\n",
    "sc=StandardScaler()\n",
    "x_train=sc.fit_transform(x_train,y_train)\n",
    "x_test=sc.transform(x_test)"
   ]
  },
  {
   "cell_type": "code",
   "execution_count": 6,
   "metadata": {},
   "outputs": [
    {
     "data": {
      "text/plain": [
       "array([[ 0.87668336,  0.79842885,  0.64412971, ...,  0.0290166 ,\n",
       "        -1.06412236, -0.2059076 ],\n",
       "       [-0.36659076, -0.7581304 , -0.39779858, ...,  0.0290166 ,\n",
       "        -0.73083231, -0.81704676],\n",
       "       [-1.69689407, -0.34424759, -0.32337513, ...,  0.90197362,\n",
       "         0.51900537, -1.31256499],\n",
       "       ...,\n",
       "       [-0.70227477, -0.68615078, -0.65828065, ...,  0.46549511,\n",
       "         0.51900537, -1.31256499],\n",
       "       [ 1.13777093, -0.62316862, -0.91876272, ..., -0.18922266,\n",
       "         1.03282752,  0.80164614],\n",
       "       [ 1.4610222 ,  0.12361993,  0.42085937, ..., -1.45501034,\n",
       "        -1.2168803 , -0.2719767 ]])"
      ]
     },
     "execution_count": 6,
     "metadata": {},
     "output_type": "execute_result"
    }
   ],
   "source": [
    "x_train"
   ]
  },
  {
   "cell_type": "code",
   "execution_count": 7,
   "metadata": {},
   "outputs": [],
   "source": [
    "# applying KernalPCA\n",
    "\n",
    "from sklearn.decomposition import KernelPCA\n",
    "kpca=KernelPCA(n_components=2,kernel='rbf')\n",
    "x_train=kpca.fit_transform(x_train)\n",
    "x_test=kpca.transform(x_test)"
   ]
  },
  {
   "cell_type": "code",
   "execution_count": 8,
   "metadata": {},
   "outputs": [
    {
     "data": {
      "text/plain": [
       "array([[ 0.46540697, -0.23434556],\n",
       "       [ 0.28634907,  0.30478225],\n",
       "       [-0.12087501,  0.42663032],\n",
       "       [ 0.57159263, -0.37316625],\n",
       "       [-0.43039305,  0.07809796],\n",
       "       [-0.44459221, -0.24595665],\n",
       "       [-0.11432031,  0.50518271],\n",
       "       [ 0.07099744,  0.48515601],\n",
       "       [ 0.05246047,  0.51561154],\n",
       "       [-0.44388392, -0.2020732 ],\n",
       "       [ 0.51046787, -0.16345162],\n",
       "       [-0.24377084,  0.21478452],\n",
       "       [ 0.39119987, -0.22116164],\n",
       "       [-0.4506256 , -0.35935991],\n",
       "       [ 0.43734173, -0.11969387],\n",
       "       [ 0.54556552, -0.18719483],\n",
       "       [-0.50029209, -0.20833233],\n",
       "       [ 0.10854094, -0.16990509],\n",
       "       [-0.55629186, -0.09500493],\n",
       "       [-0.00540376,  0.53316736],\n",
       "       [ 0.43495067, -0.37232317],\n",
       "       [ 0.50089353, -0.17762903],\n",
       "       [-0.16748775,  0.13036677],\n",
       "       [ 0.52942286, -0.15694334],\n",
       "       [ 0.51104775, -0.36377716],\n",
       "       [-0.34809893,  0.00517757],\n",
       "       [ 0.44901155, -0.03030262],\n",
       "       [ 0.3578409 ,  0.02884606],\n",
       "       [-0.13740548,  0.50016812],\n",
       "       [ 0.32275375,  0.11126528],\n",
       "       [ 0.54956575, -0.21206893],\n",
       "       [-0.03320943,  0.26900968],\n",
       "       [-0.4833102 , -0.22521783],\n",
       "       [ 0.05270328,  0.09219334],\n",
       "       [-0.04932979, -0.04944709],\n",
       "       [ 0.07653738,  0.05163732],\n",
       "       [-0.16072445,  0.02036056],\n",
       "       [-0.52875309, -0.33897915],\n",
       "       [-0.19553072,  0.28563538],\n",
       "       [-0.088729  , -0.04951031],\n",
       "       [ 0.48607695, -0.24330302],\n",
       "       [ 0.20764965, -0.21110487],\n",
       "       [-0.02805266,  0.0698133 ],\n",
       "       [-0.01002189,  0.56721489],\n",
       "       [ 0.02796898,  0.61967984],\n",
       "       [ 0.4373037 , -0.37571845],\n",
       "       [ 0.5344095 , -0.09182352],\n",
       "       [-0.33465839, -0.14550443],\n",
       "       [ 0.50341738, -0.34323143],\n",
       "       [ 0.0570657 ,  0.53984857],\n",
       "       [ 0.07174658,  0.34216134],\n",
       "       [ 0.12787837,  0.15580456],\n",
       "       [-0.05191774,  0.15878193],\n",
       "       [-0.02231701,  0.01897678],\n",
       "       [-0.52534663, -0.35896691],\n",
       "       [-0.53808179, -0.28487737],\n",
       "       [-0.14865034,  0.5176786 ],\n",
       "       [-0.31600509, -0.23167533],\n",
       "       [ 0.47771261, -0.18222463],\n",
       "       [-0.4323618 ,  0.11558426],\n",
       "       [ 0.56111519, -0.28182503],\n",
       "       [-0.47516181, -0.22562809],\n",
       "       [-0.48658405, -0.31889855],\n",
       "       [-0.06066682,  0.05501722],\n",
       "       [-0.48657011, -0.34084927],\n",
       "       [-0.09591317,  0.40588113],\n",
       "       [-0.03835571,  0.34380995],\n",
       "       [-0.41343245, -0.35549382],\n",
       "       [ 0.43587414, -0.33775486],\n",
       "       [ 0.27584706,  0.37438695],\n",
       "       [-0.52857689, -0.28659909],\n",
       "       [ 0.10420944,  0.05767577],\n",
       "       [ 0.10658217,  0.40297458],\n",
       "       [-0.11448141,  0.33462826],\n",
       "       [ 0.20926395, -0.01552229],\n",
       "       [-0.53540743, -0.22030067],\n",
       "       [ 0.41352467, -0.19471728],\n",
       "       [ 0.25660393, -0.15650919],\n",
       "       [-0.35319808, -0.30623166],\n",
       "       [-0.49454089, -0.30871525],\n",
       "       [ 0.23370176,  0.45089198],\n",
       "       [ 0.4330947 , -0.32809809],\n",
       "       [-0.48348444, -0.2719857 ],\n",
       "       [-0.45361999, -0.16536387],\n",
       "       [ 0.07195395,  0.46656232],\n",
       "       [-0.00985198,  0.42437984],\n",
       "       [-0.52881742, -0.03916749],\n",
       "       [-0.54978389, -0.28938962],\n",
       "       [-0.21491755,  0.01027312],\n",
       "       [ 0.493355  , -0.36435545],\n",
       "       [-0.21866874,  0.25431673],\n",
       "       [-0.3969886 , -0.04164214],\n",
       "       [-0.1324015 ,  0.37910049],\n",
       "       [ 0.43302738, -0.15547727],\n",
       "       [-0.5357154 , -0.28750293],\n",
       "       [ 0.22524971,  0.31334965],\n",
       "       [ 0.44644219, -0.11365556],\n",
       "       [ 0.42603881, -0.12665746],\n",
       "       [-0.45305602, -0.29758272],\n",
       "       [-0.36437395,  0.13452854],\n",
       "       [ 0.35964813, -0.10247039],\n",
       "       [-0.49833343, -0.35260866],\n",
       "       [ 0.43389828, -0.05485251],\n",
       "       [ 0.06116826,  0.53684132],\n",
       "       [-0.43579231, -0.13109223],\n",
       "       [-0.4656477 , -0.16193338],\n",
       "       [ 0.04710736,  0.51380609],\n",
       "       [-0.53480001, -0.33288377],\n",
       "       [ 0.48818352, -0.35233402],\n",
       "       [ 0.14957355,  0.22017593],\n",
       "       [ 0.42780579, -0.21552914],\n",
       "       [-0.44511413, -0.04365481],\n",
       "       [ 0.4619841 , -0.13176039],\n",
       "       [ 0.32001748, -0.25825961],\n",
       "       [ 0.56862721, -0.32707456],\n",
       "       [-0.53440883, -0.12188152],\n",
       "       [-0.10152744,  0.2472913 ],\n",
       "       [ 0.05022468,  0.48456132],\n",
       "       [-0.06966291,  0.27321624],\n",
       "       [ 0.01060791,  0.29225637],\n",
       "       [ 0.5824808 , -0.35640335],\n",
       "       [ 0.43956535, -0.35183978],\n",
       "       [ 0.08958724,  0.33646948],\n",
       "       [ 0.24241827,  0.28398395],\n",
       "       [-0.09260716, -0.04346858],\n",
       "       [-0.26601948,  0.42690588],\n",
       "       [ 0.51639412, -0.30115817],\n",
       "       [ 0.33394211, -0.28398486],\n",
       "       [-0.29151583, -0.21446668],\n",
       "       [-0.53433882, -0.35764959],\n",
       "       [ 0.49489028, -0.09355472],\n",
       "       [ 0.1653364 ,  0.49143951],\n",
       "       [ 0.2688954 ,  0.1809993 ],\n",
       "       [ 0.05507577,  0.40894757],\n",
       "       [-0.36160546, -0.10688018],\n",
       "       [-0.27704491,  0.02743139],\n",
       "       [-0.57650285, -0.25245419],\n",
       "       [ 0.08187734,  0.56022515],\n",
       "       [-0.04189581,  0.48626928],\n",
       "       [ 0.01370526,  0.53337676],\n",
       "       [-0.53840162, -0.2251602 ],\n",
       "       [ 0.45544982, -0.34803713]])"
      ]
     },
     "execution_count": 8,
     "metadata": {},
     "output_type": "execute_result"
    }
   ],
   "source": [
    "x_train"
   ]
  },
  {
   "cell_type": "code",
   "execution_count": 9,
   "metadata": {},
   "outputs": [
    {
     "data": {
      "text/plain": [
       "GaussianNB(priors=None, var_smoothing=1e-09)"
      ]
     },
     "execution_count": 9,
     "metadata": {},
     "output_type": "execute_result"
    }
   ],
   "source": [
    "# training the model\n",
    "\n",
    "from sklearn.naive_bayes import GaussianNB\n",
    "model=GaussianNB()\n",
    "model.fit(x_train,y_train)"
   ]
  },
  {
   "cell_type": "code",
   "execution_count": 10,
   "metadata": {},
   "outputs": [
    {
     "data": {
      "text/plain": [
       "100.0"
      ]
     },
     "execution_count": 10,
     "metadata": {},
     "output_type": "execute_result"
    },
    {
     "data": {
      "image/png": "[encoded data removed]",
      "text/plain": [
       "<Figure size 432x288 with 2 Axes>"
      ]
     },
     "metadata": {
      "needs_background": "light"
     },
     "output_type": "display_data"
    }
   ],
   "source": [
    "# making confusion matrix and accuracy score\n",
    "\n",
    "y_pred=model.predict(x_test)\n",
    "\n",
    "from sklearn.metrics import confusion_matrix , accuracy_score\n",
    "import seaborn as sns\n",
    "\n",
    "cm=confusion_matrix(y_test,y_pred)\n",
    "sns.heatmap(cm, annot=True, lw=3)\n",
    "\n",
    "accuracy_score(y_test,y_pred).mean()*100"
   ]
  },
  {
   "cell_type": "code",
   "execution_count": null,
   "metadata": {},
   "outputs": [],
   "source": []
  }
 ],
 "metadata": {
  "kernelspec": {
   "display_name": "Python 3",
   "language": "python",
   "name": "python3"
  },
  "language_info": {
   "codemirror_mode": {
    "name": "ipython",
    "version": 3
   },
   "file_extension": ".py",
   "mimetype": "text/x-python",
   "name": "python",
   "nbconvert_exporter": "python",
   "pygments_lexer": "ipython3",
   "version": "3.7.6"
  }
 },
 "nbformat": 4,
 "nbformat_minor": 4
}
